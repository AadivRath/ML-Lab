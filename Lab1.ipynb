{
 "cells": [
  {
   "cell_type": "markdown",
   "id": "86f033cd",
   "metadata": {},
   "source": [
    "<H1> Machine Learning Lab #1\n",
    "<H3> Working with numpy, scify, and CSV file format"
   ]
  },
  {
   "cell_type": "code",
   "execution_count": 2,
   "id": "deda9e9b",
   "metadata": {},
   "outputs": [],
   "source": [
    "#generic imports for all programs\n",
    "\n",
    "import numpy as np\n",
    "import pandas as pd\n",
    "import sklearn as sk\n",
    "import matplotlib"
   ]
  },
  {
   "cell_type": "code",
   "execution_count": 17,
   "id": "1d6ac1e8",
   "metadata": {},
   "outputs": [
    {
     "name": "stdout",
     "output_type": "stream",
     "text": [
      "[[0 1 2]\n",
      " [3 4 5]\n",
      " [6 7 8]]\n"
     ]
    }
   ],
   "source": [
    "'''\n",
    "1. Convert a 1-D array into a 2-D array with 3 rows.\n",
    "'''\n",
    "\n",
    "Assign1 = np.array([0, 1, 2, 3, 4, 5, 6, 7, 8]).reshape([3,3])\n",
    "print(Assign1)"
   ]
  },
  {
   "cell_type": "code",
   "execution_count": 26,
   "id": "9d64b8ac",
   "metadata": {},
   "outputs": [
    {
     "name": "stdout",
     "output_type": "stream",
     "text": [
      "[ 0 -1  2 -1  4 -1  6 -1  8 -1]\n"
     ]
    }
   ],
   "source": [
    "'''\n",
    "2. Replace all odd numbers in the given array with -1\n",
    "'''\n",
    "\n",
    "Assign2 = np.array([0, 1, 2, 3, 4, 5, 6, 7, 8, 9])\n",
    "\n",
    "# for num in range(len(Assign2)-1):\n",
    "#     if num % 2 != 0:\n",
    "#         num == -1\n",
    "# print(Assign2)\n",
    "\n",
    "cond = Assign2 % 2 != 0\n",
    "Assign2[cond] = -1\n",
    "print(Assign2)\n"
   ]
  },
  {
   "cell_type": "code",
   "execution_count": null,
   "id": "f2f11cf3",
   "metadata": {},
   "outputs": [
    {
     "name": "stdout",
     "output_type": "stream",
     "text": [
      "[1 2 4 5 6 7 8 9]\n",
      "\n",
      " [0]\n"
     ]
    }
   ],
   "source": [
    "'''\n",
    "3. Find the positions of elements in x where its value is more than its corresponding element in y, and elements in x where its value is\n",
    "equals to its corresponding element in y.\n",
    "'''\n",
    "\n",
    "x = np.array([21, 64, 86, 22, 74, 55, 81, 79, 90, 89])\n",
    "y = np.array([21, 7, 3, 45, 10, 29, 55, 4, 37, 18])\n",
    "\n",
    "greater = np.where(x > y)[0]\n",
    "equal = np.where(x == y)[0]\n",
    "print(greater)\n",
    "print(\"\\n\",equal)"
   ]
  },
  {
   "cell_type": "code",
   "execution_count": 67,
   "id": "4a80c130",
   "metadata": {},
   "outputs": [
    {
     "name": "stdout",
     "output_type": "stream",
     "text": [
      "[[ 0  1  2  3]\n",
      " [20 21 22 23]\n",
      " [40 41 42 43]\n",
      " [60 61 62 63]\n",
      " [80 81 82 83]]\n"
     ]
    }
   ],
   "source": [
    "'''\n",
    "4. Extract the first four columns of this 2-D array\n",
    "'''\n",
    "\n",
    "Assign4= np.arange(100).reshape(5,-1)\n",
    "a = np.arange(100).reshape(5,-1)\n",
    "arr = a[:,:4]\n",
    "print(arr)\n",
    "\n"
   ]
  },
  {
   "cell_type": "markdown",
   "id": "d7307735",
   "metadata": {},
   "source": [
    "<H2>Additional Questions:"
   ]
  },
  {
   "cell_type": "code",
   "execution_count": 11,
   "id": "67002056",
   "metadata": {},
   "outputs": [
    {
     "name": "stdout",
     "output_type": "stream",
     "text": [
      "[[ 1  2  3]\n",
      " [ 4  5  6]\n",
      " [ 7  8 10]]\n",
      "\n",
      " [[ 7  8 10]\n",
      " [ 4  5  6]\n",
      " [ 1  2  3]]\n"
     ]
    }
   ],
   "source": [
    "#Code for subsequent questions\n",
    "\n",
    "a = np.array([1, 2, 3, 4, 5, 6, 7, 8,10]).reshape([3,3])\n",
    "print(a)\n",
    "\n",
    "b = np.array([7,8,10, 4,5,6,1,2,3]).reshape([3,3])\n",
    "print(\"\\n\",b)"
   ]
  },
  {
   "cell_type": "code",
   "execution_count": null,
   "id": "4dc742c9",
   "metadata": {},
   "outputs": [
    {
     "name": "stdout",
     "output_type": "stream",
     "text": [
      "[34 31 37 35 37 35 31 32 36 37]\n"
     ]
    }
   ],
   "source": [
    "'''\n",
    "1. Generate a 1-D array of 10 random integers. Each integer should be a number between 30 and 40 (inclusive).\n",
    "'''\n",
    "lmao = np.random.randint(low= 30, high=40, size=10)\n",
    "print(lmao)"
   ]
  },
  {
   "cell_type": "code",
   "execution_count": null,
   "id": "7744898b",
   "metadata": {},
   "outputs": [
    {
     "name": "stdout",
     "output_type": "stream",
     "text": [
      "Sum Matrix: \n",
      " [[ 8 10 13]\n",
      " [ 8 10 12]\n",
      " [ 8 10 13]]\n",
      "\n",
      " Difference Matrix: \n",
      " [[-6 -6 -7]\n",
      " [ 0  0  0]\n",
      " [ 6  6  7]]\n"
     ]
    }
   ],
   "source": [
    "'''\n",
    "i) Add and Subtract of the Matrix A and B, print the resultant matrix C for add and E for subtract.\n",
    "'''\n",
    "\n",
    "c = a + b\n",
    "print(\"Sum Matrix: \\n\",c)\n",
    "\n",
    "e = a - b\n",
    "print(\"\\n Difference Matrix: \\n\",e)"
   ]
  },
  {
   "cell_type": "code",
   "execution_count": null,
   "id": "d0e1c651",
   "metadata": {},
   "outputs": [
    {
     "name": "stdout",
     "output_type": "stream",
     "text": [
      "4950 [12 15 19] [31 30 31]\n"
     ]
    }
   ],
   "source": [
    "'''\n",
    "ii) Compute the sum of all elements of Matrix A, sum of each column of Matrix B and sum of each row of Matrix C\n",
    "'''\n",
    "\n",
    "sumA = np.sum(a)\n",
    "sumcolB = np.sum(b, axis=0)\n",
    "c_sum = np.sum(c, axis=1)\n",
    "\n",
    "print(sumA, sumcolB, c_sum)\n"
   ]
  },
  {
   "cell_type": "code",
   "execution_count": null,
   "id": "35765286",
   "metadata": {},
   "outputs": [
    {
     "name": "stdout",
     "output_type": "stream",
     "text": [
      "Product Matix: \n",
      " [[ 7 16 30]\n",
      " [16 25 36]\n",
      " [ 7 16 30]]\n"
     ]
    }
   ],
   "source": [
    "'''\n",
    "iii) Product of two matrices A and B, and print the resultant matrix D\n",
    "'''\n",
    "\n",
    "d = a*b\n",
    "print(\"Product Matix: \\n\", d)"
   ]
  },
  {
   "cell_type": "code",
   "execution_count": null,
   "id": "3ec47976",
   "metadata": {},
   "outputs": [
    {
     "name": "stdout",
     "output_type": "stream",
     "text": [
      "[[ 8  8  8]\n",
      " [10 10 10]\n",
      " [12 13 13]]\n"
     ]
    }
   ],
   "source": [
    "'''\n",
    "iv) Sort the elements of resultant matrix C and print the resultant Matrix E.\n",
    "'''\n",
    "\n",
    "C_sort = np.sort(c.flatten()).reshape(c.shape)\n",
    "print(C_sort)\n"
   ]
  },
  {
   "cell_type": "code",
   "execution_count": null,
   "id": "4e8e6be3",
   "metadata": {},
   "outputs": [
    {
     "name": "stdout",
     "output_type": "stream",
     "text": [
      "[[ 8 10 12]\n",
      " [ 8 10 13]\n",
      " [ 8 10 13]]\n"
     ]
    }
   ],
   "source": [
    "'''\n",
    "v) Transpose the Matrix E and print the result\n",
    "'''\n",
    "C_trans = C_sort.T\n",
    "print(C_trans)\n"
   ]
  }
 ],
 "metadata": {
  "kernelspec": {
   "display_name": ".venv",
   "language": "python",
   "name": "python3"
  },
  "language_info": {
   "codemirror_mode": {
    "name": "ipython",
    "version": 3
   },
   "file_extension": ".py",
   "mimetype": "text/x-python",
   "name": "python",
   "nbconvert_exporter": "python",
   "pygments_lexer": "ipython3",
   "version": "3.11.2"
  }
 },
 "nbformat": 4,
 "nbformat_minor": 5
}
