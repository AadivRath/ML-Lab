{
 "cells": [
  {
   "cell_type": "markdown",
   "id": "0d31356f",
   "metadata": {},
   "source": [
    "<center><H1> Machine Learning Lab #3\n",
    "\n",
    "<H3> DATA PREPROCESSING AND REGRESSION"
   ]
  },
  {
   "cell_type": "code",
   "execution_count": null,
   "id": "82ef4525",
   "metadata": {},
   "outputs": [],
   "source": []
  },
  {
   "cell_type": "code",
   "execution_count": 18,
   "id": "101f7dd2",
   "metadata": {},
   "outputs": [],
   "source": [
    "#Generic Imports\n",
    "\n",
    "import numpy as np\n",
    "import pandas as pd\n",
    "import matplotlib\n",
    "from matplotlib import pyplot as plt\n",
    "from scipy.sparse import csr_matrix\n",
    "import seaborn as sns"
   ]
  },
  {
   "cell_type": "code",
   "execution_count": 19,
   "id": "ce7a4949",
   "metadata": {},
   "outputs": [],
   "source": [
    "from sklearn.linear_model import LogisticRegression\n",
    "from sklearn.metrics import accuracy_score, confusion_matrix"
   ]
  },
  {
   "cell_type": "markdown",
   "id": "11753aba",
   "metadata": {},
   "source": [
    "<H2>Questions"
   ]
  },
  {
   "cell_type": "markdown",
   "id": "6e581359",
   "metadata": {},
   "source": [
    "<H3> 1. Consider the hepatitis/ pima-indians-diabetes csv file, perform the following date pre-processing."
   ]
  },
  {
   "cell_type": "markdown",
   "id": "17e2a455",
   "metadata": {},
   "source": [
    "1. Load data in Pandas."
   ]
  },
  {
   "cell_type": "code",
   "execution_count": 20,
   "id": "93e18d6c",
   "metadata": {},
   "outputs": [],
   "source": [
    "df = pd.read_csv(\"/home/cvl-5aiml-a2/Documents/ML_230962258_AIML_A/Datasets/diabetes_csv.csv\")"
   ]
  },
  {
   "cell_type": "markdown",
   "id": "92f7ac36",
   "metadata": {},
   "source": [
    "2. Drop columns that aren’t useful."
   ]
  },
  {
   "cell_type": "code",
   "execution_count": 21,
   "id": "e7716273",
   "metadata": {},
   "outputs": [
    {
     "data": {
      "text/html": [
       "<div>\n",
       "<style scoped>\n",
       "    .dataframe tbody tr th:only-of-type {\n",
       "        vertical-align: middle;\n",
       "    }\n",
       "\n",
       "    .dataframe tbody tr th {\n",
       "        vertical-align: top;\n",
       "    }\n",
       "\n",
       "    .dataframe thead th {\n",
       "        text-align: right;\n",
       "    }\n",
       "</style>\n",
       "<table border=\"1\" class=\"dataframe\">\n",
       "  <thead>\n",
       "    <tr style=\"text-align: right;\">\n",
       "      <th></th>\n",
       "      <th>Glucose</th>\n",
       "      <th>BloodPressure</th>\n",
       "      <th>Insulin</th>\n",
       "      <th>BMI</th>\n",
       "      <th>DiabetesPedigreeFunction</th>\n",
       "      <th>Age</th>\n",
       "      <th>Outcome</th>\n",
       "    </tr>\n",
       "  </thead>\n",
       "  <tbody>\n",
       "    <tr>\n",
       "      <th>0</th>\n",
       "      <td>148</td>\n",
       "      <td>72</td>\n",
       "      <td>0</td>\n",
       "      <td>33.6</td>\n",
       "      <td>0.627</td>\n",
       "      <td>50</td>\n",
       "      <td>1</td>\n",
       "    </tr>\n",
       "    <tr>\n",
       "      <th>1</th>\n",
       "      <td>85</td>\n",
       "      <td>66</td>\n",
       "      <td>0</td>\n",
       "      <td>26.6</td>\n",
       "      <td>0.351</td>\n",
       "      <td>31</td>\n",
       "      <td>0</td>\n",
       "    </tr>\n",
       "    <tr>\n",
       "      <th>2</th>\n",
       "      <td>183</td>\n",
       "      <td>64</td>\n",
       "      <td>0</td>\n",
       "      <td>23.3</td>\n",
       "      <td>0.672</td>\n",
       "      <td>32</td>\n",
       "      <td>1</td>\n",
       "    </tr>\n",
       "    <tr>\n",
       "      <th>3</th>\n",
       "      <td>89</td>\n",
       "      <td>66</td>\n",
       "      <td>94</td>\n",
       "      <td>28.1</td>\n",
       "      <td>0.167</td>\n",
       "      <td>21</td>\n",
       "      <td>0</td>\n",
       "    </tr>\n",
       "    <tr>\n",
       "      <th>4</th>\n",
       "      <td>137</td>\n",
       "      <td>40</td>\n",
       "      <td>168</td>\n",
       "      <td>43.1</td>\n",
       "      <td>2.288</td>\n",
       "      <td>33</td>\n",
       "      <td>1</td>\n",
       "    </tr>\n",
       "  </tbody>\n",
       "</table>\n",
       "</div>"
      ],
      "text/plain": [
       "   Glucose  BloodPressure  Insulin   BMI  DiabetesPedigreeFunction  Age  \\\n",
       "0      148             72        0  33.6                     0.627   50   \n",
       "1       85             66        0  26.6                     0.351   31   \n",
       "2      183             64        0  23.3                     0.672   32   \n",
       "3       89             66       94  28.1                     0.167   21   \n",
       "4      137             40      168  43.1                     2.288   33   \n",
       "\n",
       "   Outcome  \n",
       "0        1  \n",
       "1        0  \n",
       "2        1  \n",
       "3        0  \n",
       "4        1  "
      ]
     },
     "execution_count": 21,
     "metadata": {},
     "output_type": "execute_result"
    }
   ],
   "source": [
    "# Dropped below:\n",
    "df = df.drop(\"Pregnancies\",axis=1)\n",
    "df = df.drop(\"SkinThickness\", axis = 1)\n",
    "df.reset_index(drop=True, inplace=True)\n",
    "\n",
    "df.head()"
   ]
  },
  {
   "cell_type": "markdown",
   "id": "4b0d0886",
   "metadata": {},
   "source": [
    "3. Drop rows with missing values."
   ]
  },
  {
   "cell_type": "code",
   "execution_count": 22,
   "id": "ef5f5813",
   "metadata": {},
   "outputs": [
    {
     "data": {
      "text/html": [
       "<div>\n",
       "<style scoped>\n",
       "    .dataframe tbody tr th:only-of-type {\n",
       "        vertical-align: middle;\n",
       "    }\n",
       "\n",
       "    .dataframe tbody tr th {\n",
       "        vertical-align: top;\n",
       "    }\n",
       "\n",
       "    .dataframe thead th {\n",
       "        text-align: right;\n",
       "    }\n",
       "</style>\n",
       "<table border=\"1\" class=\"dataframe\">\n",
       "  <thead>\n",
       "    <tr style=\"text-align: right;\">\n",
       "      <th></th>\n",
       "      <th>Glucose</th>\n",
       "      <th>BloodPressure</th>\n",
       "      <th>Insulin</th>\n",
       "      <th>BMI</th>\n",
       "      <th>DiabetesPedigreeFunction</th>\n",
       "      <th>Age</th>\n",
       "      <th>Outcome</th>\n",
       "    </tr>\n",
       "  </thead>\n",
       "  <tbody>\n",
       "    <tr>\n",
       "      <th>0</th>\n",
       "      <td>148</td>\n",
       "      <td>72</td>\n",
       "      <td>0</td>\n",
       "      <td>33.6</td>\n",
       "      <td>0.627</td>\n",
       "      <td>50</td>\n",
       "      <td>1</td>\n",
       "    </tr>\n",
       "    <tr>\n",
       "      <th>1</th>\n",
       "      <td>85</td>\n",
       "      <td>66</td>\n",
       "      <td>0</td>\n",
       "      <td>26.6</td>\n",
       "      <td>0.351</td>\n",
       "      <td>31</td>\n",
       "      <td>0</td>\n",
       "    </tr>\n",
       "    <tr>\n",
       "      <th>2</th>\n",
       "      <td>183</td>\n",
       "      <td>64</td>\n",
       "      <td>0</td>\n",
       "      <td>23.3</td>\n",
       "      <td>0.672</td>\n",
       "      <td>32</td>\n",
       "      <td>1</td>\n",
       "    </tr>\n",
       "    <tr>\n",
       "      <th>3</th>\n",
       "      <td>89</td>\n",
       "      <td>66</td>\n",
       "      <td>94</td>\n",
       "      <td>28.1</td>\n",
       "      <td>0.167</td>\n",
       "      <td>21</td>\n",
       "      <td>0</td>\n",
       "    </tr>\n",
       "    <tr>\n",
       "      <th>4</th>\n",
       "      <td>137</td>\n",
       "      <td>40</td>\n",
       "      <td>168</td>\n",
       "      <td>43.1</td>\n",
       "      <td>2.288</td>\n",
       "      <td>33</td>\n",
       "      <td>1</td>\n",
       "    </tr>\n",
       "    <tr>\n",
       "      <th>...</th>\n",
       "      <td>...</td>\n",
       "      <td>...</td>\n",
       "      <td>...</td>\n",
       "      <td>...</td>\n",
       "      <td>...</td>\n",
       "      <td>...</td>\n",
       "      <td>...</td>\n",
       "    </tr>\n",
       "    <tr>\n",
       "      <th>763</th>\n",
       "      <td>101</td>\n",
       "      <td>76</td>\n",
       "      <td>180</td>\n",
       "      <td>32.9</td>\n",
       "      <td>0.171</td>\n",
       "      <td>63</td>\n",
       "      <td>0</td>\n",
       "    </tr>\n",
       "    <tr>\n",
       "      <th>764</th>\n",
       "      <td>122</td>\n",
       "      <td>70</td>\n",
       "      <td>0</td>\n",
       "      <td>36.8</td>\n",
       "      <td>0.340</td>\n",
       "      <td>27</td>\n",
       "      <td>0</td>\n",
       "    </tr>\n",
       "    <tr>\n",
       "      <th>765</th>\n",
       "      <td>121</td>\n",
       "      <td>72</td>\n",
       "      <td>112</td>\n",
       "      <td>26.2</td>\n",
       "      <td>0.245</td>\n",
       "      <td>30</td>\n",
       "      <td>0</td>\n",
       "    </tr>\n",
       "    <tr>\n",
       "      <th>766</th>\n",
       "      <td>126</td>\n",
       "      <td>60</td>\n",
       "      <td>0</td>\n",
       "      <td>30.1</td>\n",
       "      <td>0.349</td>\n",
       "      <td>47</td>\n",
       "      <td>1</td>\n",
       "    </tr>\n",
       "    <tr>\n",
       "      <th>767</th>\n",
       "      <td>93</td>\n",
       "      <td>70</td>\n",
       "      <td>0</td>\n",
       "      <td>30.4</td>\n",
       "      <td>0.315</td>\n",
       "      <td>23</td>\n",
       "      <td>0</td>\n",
       "    </tr>\n",
       "  </tbody>\n",
       "</table>\n",
       "<p>768 rows × 7 columns</p>\n",
       "</div>"
      ],
      "text/plain": [
       "     Glucose  BloodPressure  Insulin   BMI  DiabetesPedigreeFunction  Age  \\\n",
       "0        148             72        0  33.6                     0.627   50   \n",
       "1         85             66        0  26.6                     0.351   31   \n",
       "2        183             64        0  23.3                     0.672   32   \n",
       "3         89             66       94  28.1                     0.167   21   \n",
       "4        137             40      168  43.1                     2.288   33   \n",
       "..       ...            ...      ...   ...                       ...  ...   \n",
       "763      101             76      180  32.9                     0.171   63   \n",
       "764      122             70        0  36.8                     0.340   27   \n",
       "765      121             72      112  26.2                     0.245   30   \n",
       "766      126             60        0  30.1                     0.349   47   \n",
       "767       93             70        0  30.4                     0.315   23   \n",
       "\n",
       "     Outcome  \n",
       "0          1  \n",
       "1          0  \n",
       "2          1  \n",
       "3          0  \n",
       "4          1  \n",
       "..       ...  \n",
       "763        0  \n",
       "764        0  \n",
       "765        0  \n",
       "766        1  \n",
       "767        0  \n",
       "\n",
       "[768 rows x 7 columns]"
      ]
     },
     "execution_count": 22,
     "metadata": {},
     "output_type": "execute_result"
    }
   ],
   "source": [
    "df.dropna(axis = 0)"
   ]
  },
  {
   "cell_type": "markdown",
   "id": "3647f801",
   "metadata": {},
   "source": [
    "4. Create dummy variables"
   ]
  },
  {
   "cell_type": "markdown",
   "id": "76d56a13",
   "metadata": {},
   "source": [
    "5. Take care of missing data."
   ]
  },
  {
   "cell_type": "markdown",
   "id": "71d3d99f",
   "metadata": {},
   "source": [
    "6. Convert the data frame to NumPy."
   ]
  },
  {
   "cell_type": "code",
   "execution_count": 23,
   "id": "7c196d39",
   "metadata": {},
   "outputs": [],
   "source": [
    "np_df = df.to_numpy()"
   ]
  },
  {
   "cell_type": "markdown",
   "id": "078167f1",
   "metadata": {},
   "source": [
    "7. Divide the data set into training data and test data."
   ]
  },
  {
   "cell_type": "code",
   "execution_count": 24,
   "id": "d101c33c",
   "metadata": {},
   "outputs": [],
   "source": [
    "X = df.drop('Outcome', axis=1)\n",
    "Y = df['Outcome']  \n",
    "\n",
    "x_train = X[:80]\n",
    "y_train = Y[:80]\n",
    "x_test = X[80:]\n",
    "y_test = Y[80:]"
   ]
  },
  {
   "cell_type": "markdown",
   "id": "c7e98635",
   "metadata": {},
   "source": [
    "2. a. Construct a CSV file with the following attributes:\n",
    "\n",
    "\n",
    "Study time in hours of ML lab course (x)\n",
    "\n",
    "Score out of 10 (y)\n",
    "\n",
    "The dataset should contain 10 rows."
   ]
  },
  {
   "cell_type": "code",
   "execution_count": 37,
   "id": "e40ef5eb",
   "metadata": {},
   "outputs": [
    {
     "name": "stdout",
     "output_type": "stream",
     "text": [
      "CSV file 'Q2a.csv' has been created.\n"
     ]
    }
   ],
   "source": [
    "x = np.random.randint(0, 10, 10)\n",
    "y = np.random.randint(0, 10, 10)\n",
    "data = {'x': x, 'y': y}\n",
    "df = pd.DataFrame(data)\n",
    "df.to_csv('Q2a.csv', index=False)\n",
    "\n",
    "print(\"CSV file 'Q2a.csv' has been created.\")"
   ]
  },
  {
   "cell_type": "markdown",
   "id": "bb4b39bb",
   "metadata": {},
   "source": [
    "b. Create a regression model and display the following:\n",
    "\n",
    "Coefficients: B0 (intercept) and B1 (slope)\n",
    "\n",
    "RMSE (Root Mean Square Error)\n",
    "\n",
    "Predicted responses"
   ]
  },
  {
   "cell_type": "code",
   "execution_count": 38,
   "id": "6aa66acc",
   "metadata": {},
   "outputs": [
    {
     "name": "stdout",
     "output_type": "stream",
     "text": [
      "\n",
      "First 5 rows of the dataset:\n",
      "   x  y\n",
      "0  7  1\n",
      "1  5  7\n",
      "2  9  5\n",
      "3  2  9\n",
      "4  5  6\n",
      "\n",
      "Information about the dataset:\n",
      "<class 'pandas.core.frame.DataFrame'>\n",
      "RangeIndex: 10 entries, 0 to 9\n",
      "Data columns (total 2 columns):\n",
      " #   Column  Non-Null Count  Dtype\n",
      "---  ------  --------------  -----\n",
      " 0   x       10 non-null     int64\n",
      " 1   y       10 non-null     int64\n",
      "dtypes: int64(2)\n",
      "memory usage: 292.0 bytes\n",
      "None\n"
     ]
    }
   ],
   "source": [
    "df_read = pd.read_csv('Q2a.csv')\n",
    "print(\"\\nFirst 5 rows of the dataset:\")\n",
    "print(df_read.head())\n",
    "print(\"\\nInformation about the dataset:\")\n",
    "print(df_read.info())"
   ]
  },
  {
   "cell_type": "markdown",
   "id": "2a23a75e",
   "metadata": {},
   "source": [
    "c. Create a scatter plot of the data points in red color and plot the graph of x vs. predicted y in blue color."
   ]
  },
  {
   "cell_type": "markdown",
   "id": "c601e9e9",
   "metadata": {},
   "source": [
    "d. Implement the model using two methods:\n",
    "\n",
    "Pedhazur formula (intuitive)\n",
    "\n",
    "Calculus method (partial derivatives, refer to class notes)"
   ]
  },
  {
   "cell_type": "code",
   "execution_count": null,
   "id": "f1db1c51",
   "metadata": {},
   "outputs": [],
   "source": [
    "df = pd.read_csv('Q2a.csv')\n",
    "x = df['x'].values\n",
    "y = df['y'].values\n",
    "n = len(x)\n",
    "\n",
    "# Method 1: Pedhazur Formula (Intuitive/Analytical)\n",
    "x_mean = np.mean(x)\n",
    "y_mean = np.mean(y)\n",
    "\n",
    "# slope\n",
    "numerator_b1 = np.sum((x - x_mean) * (y - y_mean))\n",
    "denominator_b1 = np.sum((x - x_mean)**2)\n",
    "b1_pedhazur = numerator_b1 / denominator_b1\n",
    "#intercept\n",
    "b0_pedhazur = y_mean - b1_pedhazur * x_mean\n",
    "\n",
    "# ----------------------------------------\n",
    "# Method 2: Calculus Method (Partial Derivatives)\n",
    "# ----------------------------------------\n",
    "\n",
    "sum_x = np.sum(x)\n",
    "sum_y = np.sum(y)\n",
    "sum_x2 = np.sum(x**2)\n",
    "sum_xy = np.sum(x * y)\n",
    "\n",
    "A = np.array([[n, sum_x], [sum_x, sum_x2]])\n",
    "B = np.array([sum_y, sum_xy])\n",
    "\n",
    "try:\n",
    "    solution = np.linalg.solve(A, B)\n",
    "    b0_calculus = solution[0]\n",
    "    b1_calculus = solution[1]\n",
    "except np.linalg.LinAlgError:\n",
    "    b0_calculus, b1_calculus = None, None\n",
    "    print(\"Error: Matrix is singular. Cannot solve the system of equations.\")"
   ]
  },
  {
   "cell_type": "markdown",
   "id": "b2292a42",
   "metadata": {},
   "source": [
    "e. Compare the coefficients obtained using both methods and compare them with the analytical solution."
   ]
  },
  {
   "cell_type": "code",
   "execution_count": 43,
   "id": "caa52c72",
   "metadata": {},
   "outputs": [
    {
     "name": "stdout",
     "output_type": "stream",
     "text": [
      "Coefficients from Pedhazur Formula:\n",
      "B0 (Intercept): 5.447619047619048\n",
      "B1 (Slope): -0.30952380952380953\n",
      "\n",
      "Coefficients from Calculus Method:\n",
      "B0 (Intercept): 5.447619047619046\n",
      "B1 (Slope): -0.3095238095238093\n"
     ]
    }
   ],
   "source": [
    "print(\"Coefficients from Pedhazur Formula:\")\n",
    "print(f\"B0 (Intercept): {b0_pedhazur}\")\n",
    "print(f\"B1 (Slope): {b1_pedhazur}\")\n",
    "print(\"\\nCoefficients from Calculus Method:\")\n",
    "if b0_calculus is not None:\n",
    "    print(f\"B0 (Intercept): {b0_calculus}\")\n",
    "    print(f\"B1 (Slope): {b1_calculus}\")"
   ]
  },
  {
   "cell_type": "markdown",
   "id": "8fbe74e9",
   "metadata": {},
   "source": [
    "f. Test your model to predict the score obtained when the study time of a student is 10 hours."
   ]
  },
  {
   "cell_type": "code",
   "execution_count": 45,
   "id": "b1ba5e9a",
   "metadata": {},
   "outputs": [
    {
     "name": "stdout",
     "output_type": "stream",
     "text": [
      "\n",
      "Prediction:\n",
      "When the study time is 10 hours, the predicted score is 2.352381.\n"
     ]
    }
   ],
   "source": [
    "study_time_new = 10\n",
    "predicted_score_new = b0_calculus + b1_calculus * study_time_new\n",
    "\n",
    "print(f\"\\nPrediction:\")\n",
    "print(f\"When the study time is {study_time_new} hours, the predicted score is {predicted_score_new:2f}.\")\n"
   ]
  },
  {
   "cell_type": "markdown",
   "id": "5dd3a973",
   "metadata": {},
   "source": [
    "---"
   ]
  }
 ],
 "metadata": {
  "kernelspec": {
   "display_name": "Python 3 (ipykernel)",
   "language": "python",
   "name": "python3"
  },
  "language_info": {
   "codemirror_mode": {
    "name": "ipython",
    "version": 3
   },
   "file_extension": ".py",
   "mimetype": "text/x-python",
   "name": "python",
   "nbconvert_exporter": "python",
   "pygments_lexer": "ipython3",
   "version": "3.11.2"
  }
 },
 "nbformat": 4,
 "nbformat_minor": 5
}
